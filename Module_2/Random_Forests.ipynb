{
 "cells": [
  {
   "cell_type": "code",
   "execution_count": 24,
   "metadata": {},
   "outputs": [
    {
     "name": "stdout",
     "output_type": "stream",
     "text": [
      "The autoreload extension is already loaded. To reload it, use:\n",
      "  %reload_ext autoreload\n"
     ]
    }
   ],
   "source": [
    "%load_ext autoreload\n",
    "%autoreload 2\n",
    "\n",
    "from sklearn.ensemble import RandomForestClassifier\n",
    "from sklearn.ensemble import RandomForestRegressor\n",
    "from operator import itemgetter\n",
    "# from sklearn.tree import _tree\n",
    "import sklearn.metrics as metrics\n",
    "# import pandas as pd\n",
    "import matplotlib.pyplot as plt\n",
    "import functions"
   ]
  },
  {
   "cell_type": "code",
   "execution_count": 25,
   "metadata": {},
   "outputs": [],
   "source": [
    "target_a = 'TARGET_BAD_FLAG'\n",
    "target_b = 'IMP_TARGET_LOSS_AMT'"
   ]
  },
  {
   "cell_type": "code",
   "execution_count": 26,
   "metadata": {},
   "outputs": [],
   "source": [
    "df = functions.clean_df(file_path= '../../data_sets/SA_clean_HMEQ_Loss.csv', remove_cols=['z_JOB', 'z_REASON'])"
   ]
  },
  {
   "cell_type": "code",
   "execution_count": 27,
   "metadata": {},
   "outputs": [],
   "source": [
    "train_cols = list(df.columns.difference((target_a, target_b)))\n",
    "x_train, x_test, y_train, y_test = functions.split_df(df = df.copy(), train_cols=train_cols, \n",
    "test_cols = [target_a, target_b], test_size=0.2, rand_seed=1)"
   ]
  },
  {
   "cell_type": "markdown",
   "metadata": {},
   "source": [
    "### Classification"
   ]
  },
  {
   "cell_type": "code",
   "execution_count": 28,
   "metadata": {},
   "outputs": [],
   "source": [
    "fm01_RF = RandomForestClassifier(n_estimators=100, random_state=1)\n",
    "fm01_RF = fm01_RF.fit(x_train, y_train[target_a])"
   ]
  },
  {
   "cell_type": "code",
   "execution_count": 29,
   "metadata": {},
   "outputs": [],
   "source": [
    "rm_pred_train = fm01_RF.predict( x_train )\n",
    "rm_pred_test = fm01_RF.predict(x_test )"
   ]
  },
  {
   "cell_type": "code",
   "execution_count": 30,
   "metadata": {},
   "outputs": [],
   "source": [
    "#extracting probabi;ities\n",
    "RF_prob_train= fm01_RF.predict_proba(x_train)\n",
    "RF_prob_test= fm01_RF.predict_proba(x_test)\n",
    "\n",
    "#keeping prob of default only\n",
    "RF_p1_train= RF_prob_train[:,1]\n",
    "RF_p1_test= RF_prob_test[:,1]"
   ]
  },
  {
   "cell_type": "code",
   "execution_count": 31,
   "metadata": {},
   "outputs": [
    {
     "name": "stdout",
     "output_type": "stream",
     "text": [
      "Train Accuracy: 1.0 \n",
      " Test Accuracy: 0.915268456375839\n"
     ]
    }
   ],
   "source": [
    "#checking accuracy predictions\n",
    "#better on test than decision tree\n",
    "print('Train Accuracy:', metrics.accuracy_score(y_train[target_a],rm_pred_train),'\\n',\n",
    "'Test Accuracy:',  metrics.accuracy_score(y_test[target_a],rm_pred_test))"
   ]
  },
  {
   "cell_type": "code",
   "execution_count": 32,
   "metadata": {},
   "outputs": [],
   "source": [
    "#developing ROC curve\n",
    "RF_fpr_train, RF_tpr_train, threshold_train = metrics.roc_curve(y_train[target_a], RF_p1_train)\n",
    "RF_fpr_test, RF_tpr_test, threshold_test = metrics.roc_curve(y_test[target_a], RF_p1_test)\n",
    "\n",
    "#AUC\n",
    "RF_roc_auc_train = metrics.auc(RF_fpr_train, RF_tpr_train )\n",
    "RF_roc_auc_test = metrics.auc(RF_fpr_test, RF_tpr_test)"
   ]
  },
  {
   "cell_type": "code",
   "execution_count": 38,
   "metadata": {},
   "outputs": [
    {
     "name": "stderr",
     "output_type": "stream",
     "text": [
      "c:\\Users\\salma\\OneDrive\\Desktop\\Salma\\NW\\practical_machine_learning\\Code\\Module_2\\functions.py:25: UserWarning: color is redundantly defined by the 'color' keyword argument and the fmt string \"b\" (-> color=(0.0, 0.0, 1.0, 1)). The keyword argument will take precedence.\n",
      "  plt.plot(fpr_test, tpr_test, 'b', label = f'AUC TEST:{round(roc_auc_test,2)}', color=\"red\")\n"
     ]
    },
    {
     "data": {
      "image/png": "[encoded data removed]",
      "text/plain": [
       "<Figure size 432x288 with 1 Axes>"
      ]
     },
     "metadata": {
      "needs_background": "light"
     },
     "output_type": "display_data"
    }
   ],
   "source": [
    "\n",
    "\n",
    "functions.plot_roc(fpr_train = RF_fpr_train, tpr_train= RF_tpr_train, fpr_test= RF_fpr_test, tpr_test= RF_tpr_test,\n",
    " roc_auc_train= RF_roc_auc_train, roc_auc_test= RF_roc_auc_test )"
   ]
  },
  {
   "cell_type": "markdown",
   "metadata": {},
   "source": [
    "### Regression"
   ]
  },
  {
   "cell_type": "code",
   "execution_count": 41,
   "metadata": {},
   "outputs": [],
   "source": [
    "fm01_RFR = RandomForestRegressor(n_estimators=100, random_state=1)\n",
    "fm01_RFR = fm01_RFR.fit(x_train, y_train[target_a])"
   ]
  },
  {
   "cell_type": "code",
   "execution_count": 42,
   "metadata": {},
   "outputs": [],
   "source": [
    "rfr_pred_train = fm01_RFR.predict( x_train )\n",
    "rfr_pred_test = fm01_RFR.predict(x_test )"
   ]
  },
  {
   "cell_type": "code",
   "execution_count": 43,
   "metadata": {},
   "outputs": [],
   "source": [
    "# Error Metric\n",
    "rfr_train_rmse =metrics.mean_squared_error(y_train[target_b], rfr_pred_train)**0.5\n",
    "rfr_test_rmse = metrics.mean_squared_error(y_test[target_b], rfr_pred_test)**0.5"
   ]
  },
  {
   "cell_type": "code",
   "execution_count": 44,
   "metadata": {},
   "outputs": [
    {
     "data": {
      "text/plain": [
       "(7613.20043733501, 8045.609840465157)"
      ]
     },
     "execution_count": 44,
     "metadata": {},
     "output_type": "execute_result"
    }
   ],
   "source": [
    "rfr_train_rmse, rfr_test_rmse"
   ]
  },
  {
   "cell_type": "code",
   "execution_count": 45,
   "metadata": {},
   "outputs": [
    {
     "data": {
      "text/plain": [
       "{'IMP_CLAGE': 0.0964413695781914,\n",
       " 'IMP_CLNO': 0.05716965941043292,\n",
       " 'IMP_DEBTINC': 0.11340403411534,\n",
       " 'IMP_DELINQ': 0.0601069056751443,\n",
       " 'IMP_DEROG': 0.02443210867251818,\n",
       " 'IMP_LOAN': 0.06144311930098189,\n",
       " 'IMP_MORTDUE': 0.06023250084890488,\n",
       " 'IMP_NINQ': 0.027344361332827617,\n",
       " 'IMP_VALUE': 0.0651966966176241,\n",
       " 'IMP_YOJ': 0.054131017996263256,\n",
       " 'flag_CLAGE': 0.003840614508777589,\n",
       " 'flag_CLNO': 0.0014803244352742427,\n",
       " 'flag_DEBTINC': 0.3004399276971758,\n",
       " 'flag_DELINQ': 0.0021271115075311444,\n",
       " 'flag_DEROG': 0.008580305314133318,\n",
       " 'flag_LOAN': 0.0,\n",
       " 'flag_MORTDUE': 0.002517036078509915,\n",
       " 'flag_NINQ': 0.003167261921022782,\n",
       " 'flag_VALUE': 0.015614114570153896,\n",
       " 'flag_YOJ': 0.008160296340675275,\n",
       " 'z_JOB_Office': 0.007343370231809016,\n",
       " 'z_JOB_Other': 0.006619850181574448,\n",
       " 'z_JOB_ProfExe': 0.005347738397074202,\n",
       " 'z_JOB_Sales': 0.005661734938298881,\n",
       " 'z_JOB_Self': 0.0029350758127582133,\n",
       " 'z_REASON_HomeImp': 0.006263464517002814}"
      ]
     },
     "execution_count": 45,
     "metadata": {},
     "output_type": "execute_result"
    }
   ],
   "source": [
    "dict(zip(x_train.columns, fm01_RFR.feature_importances_))"
   ]
  },
  {
   "cell_type": "code",
   "execution_count": null,
   "metadata": {},
   "outputs": [],
   "source": []
  }
 ],
 "metadata": {
  "kernelspec": {
   "display_name": "Python 3.10.5 64-bit",
   "language": "python",
   "name": "python3"
  },
  "language_info": {
   "codemirror_mode": {
    "name": "ipython",
    "version": 3
   },
   "file_extension": ".py",
   "mimetype": "text/x-python",
   "name": "python",
   "nbconvert_exporter": "python",
   "pygments_lexer": "ipython3",
   "version": "3.10.5"
  },
  "orig_nbformat": 4,
  "vscode": {
   "interpreter": {
    "hash": "4217bdb66c1619d3c7bf3a5f6dea8f7bd4200ce5b7b90b812037b80bad35d2ee"
   }
  }
 },
 "nbformat": 4,
 "nbformat_minor": 2
}
