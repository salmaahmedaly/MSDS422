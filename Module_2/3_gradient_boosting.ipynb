{
 "cells": [
  {
   "cell_type": "code",
   "execution_count": 1,
   "metadata": {},
   "outputs": [],
   "source": [
    "%load_ext autoreload\n",
    "%autoreload 2\n",
    "\n",
    "from sklearn.ensemble import GradientBoostingClassifier\n",
    "from sklearn.ensemble import GradientBoostingRegressor\n",
    "from operator import itemgetter\n",
    "# from sklearn.tree import _tree\n",
    "import sklearn.metrics as metrics\n",
    "# import pandas as pd\n",
    "import matplotlib.pyplot as plt\n",
    "import functions"
   ]
  },
  {
   "cell_type": "code",
   "execution_count": 2,
   "metadata": {},
   "outputs": [],
   "source": [
    "target_a = 'TARGET_BAD_FLAG'\n",
    "target_b = 'IMP_TARGET_LOSS_AMT'"
   ]
  },
  {
   "cell_type": "code",
   "execution_count": 3,
   "metadata": {},
   "outputs": [],
   "source": [
    "df = functions.clean_df(file_path= '../../data_sets/SA_clean_HMEQ_Loss.csv', remove_cols=['z_JOB', 'z_REASON'])"
   ]
  },
  {
   "cell_type": "code",
   "execution_count": 4,
   "metadata": {},
   "outputs": [],
   "source": [
    "train_cols = list(df.columns.difference((target_a, target_b)))\n",
    "x_train, x_test, y_train, y_test = functions.split_df(df = df.copy(), train_cols=train_cols, \n",
    "test_cols = [target_a, target_b], test_size=0.2, rand_seed=1)"
   ]
  },
  {
   "cell_type": "markdown",
   "metadata": {},
   "source": [
    "### Classification"
   ]
  },
  {
   "cell_type": "code",
   "execution_count": 5,
   "metadata": {},
   "outputs": [],
   "source": [
    "GB = GradientBoostingClassifier(n_estimators=100, random_state=1)\n",
    "GB = GB.fit(x_train, y_train[target_a])"
   ]
  },
  {
   "cell_type": "code",
   "execution_count": 6,
   "metadata": {},
   "outputs": [],
   "source": [
    "GB_pred_train = GB.predict( x_train )\n",
    "GB_pred_test = GB.predict(x_test )"
   ]
  },
  {
   "cell_type": "code",
   "execution_count": 7,
   "metadata": {},
   "outputs": [],
   "source": [
    "#extracting probabi;ities\n",
    "GB_prob_train= GB.predict_proba(x_train)\n",
    "GB_prob_test= GB.predict_proba(x_test)\n",
    "\n",
    "#keeping prob of default only\n",
    "GB_p1_train= GB_prob_train[:,1]\n",
    "GB_p1_test= GB_prob_test[:,1]"
   ]
  },
  {
   "cell_type": "code",
   "execution_count": 8,
   "metadata": {},
   "outputs": [
    {
     "name": "stdout",
     "output_type": "stream",
     "text": [
      "Train Accuracy: 0.9228187919463087 \n",
      " Test Accuracy: 0.9026845637583892\n"
     ]
    }
   ],
   "source": [
    "#checking accuracy predictions\n",
    "#better on test than decision tree\n",
    "print('Train Accuracy:', metrics.accuracy_score(y_train[target_a],GB_pred_train),'\\n',\n",
    "'Test Accuracy:',  metrics.accuracy_score(y_test[target_a],GB_pred_test))"
   ]
  },
  {
   "cell_type": "code",
   "execution_count": 9,
   "metadata": {},
   "outputs": [],
   "source": [
    "#developing ROC curve\n",
    "GB_fpr_train, GB_tpr_train, threshold_train = metrics.roc_curve(y_train[target_a], GB_p1_train)\n",
    "GB_fpr_test, GB_tpr_test, threshold_test = metrics.roc_curve(y_test[target_a], GB_p1_test)\n",
    "\n",
    "#AUC\n",
    "GB_roc_auc_train = metrics.auc(GB_fpr_train, GB_tpr_train )\n",
    "GB_roc_auc_test = metrics.auc(GB_fpr_test, GB_tpr_test)"
   ]
  },
  {
   "cell_type": "code",
   "execution_count": 10,
   "metadata": {},
   "outputs": [
    {
     "name": "stderr",
     "output_type": "stream",
     "text": [
      "c:\\Users\\salma\\OneDrive\\Desktop\\Salma\\NW\\practical_machine_learning\\Code\\Module_2\\functions.py:25: UserWarning: color is redundantly defined by the 'color' keyword argument and the fmt string \"b\" (-> color=(0.0, 0.0, 1.0, 1)). The keyword argument will take precedence.\n",
      "  plt.plot(fpr_test, tpr_test, 'b', label = f'AUC TEST:{round(roc_auc_test,2)}', color= 'red')\n"
     ]
    },
    {
     "data": {
      "image/png": "[encoded data removed]",
      "text/plain": [
       "<Figure size 432x288 with 1 Axes>"
      ]
     },
     "metadata": {
      "needs_background": "light"
     },
     "output_type": "display_data"
    }
   ],
   "source": [
    "functions.plot_roc(fpr_train = GB_fpr_train, tpr_train= GB_tpr_train, fpr_test= GB_fpr_test, tpr_test= GB_tpr_test,\n",
    " roc_auc_train= GB_roc_auc_train, roc_auc_test= GB_roc_auc_test )"
   ]
  },
  {
   "cell_type": "markdown",
   "metadata": {},
   "source": [
    "### Regression"
   ]
  },
  {
   "cell_type": "code",
   "execution_count": 11,
   "metadata": {},
   "outputs": [],
   "source": [
    "#Filtering the train and test splits only on values with amount > 0 \n",
    "#in clean up steps, missing amounts were filled with 0s...\n",
    "#there were no zeros in the column prior to that\n",
    "reg_y_train = y_train[y_train[target_a]==1]\n",
    "reg_y_test = y_test[y_test[target_a]==1]\n",
    "#subsetting based on index\n",
    "reg_x_train =x_train[x_train.index.isin(reg_y_train.index)]  \n",
    "reg_x_test = x_test[x_test.index.isin(reg_y_test.index)] \n",
    "\n",
    "# display (reg_y_train.head(), reg_y_test.head(), reg_x_train.head(),\n",
    "#          reg_x_test.head(), (reg_y_train.index == reg_x_train.index).all(),\n",
    "#         (reg_y_test.index == reg_x_test.index).all() )"
   ]
  },
  {
   "cell_type": "code",
   "execution_count": 12,
   "metadata": {},
   "outputs": [],
   "source": [
    "GBR = GradientBoostingRegressor(n_estimators=100, random_state=1)\n",
    "GBR = GBR.fit(reg_x_train, reg_y_train[target_a])"
   ]
  },
  {
   "cell_type": "code",
   "execution_count": 13,
   "metadata": {},
   "outputs": [],
   "source": [
    "GBR_pred_train = GBR.predict( reg_x_train )\n",
    "GBR_pred_test = GBR.predict(reg_x_test )"
   ]
  },
  {
   "cell_type": "code",
   "execution_count": 14,
   "metadata": {},
   "outputs": [],
   "source": [
    "# Error Metric\n",
    "GBR_train_rmse =metrics.mean_squared_error(reg_y_train[target_b], GBR_pred_train)**0.5\n",
    "GBR_test_rmse = metrics.mean_squared_error(reg_y_test[target_b], GBR_pred_test)**0.5"
   ]
  },
  {
   "cell_type": "code",
   "execution_count": 15,
   "metadata": {},
   "outputs": [
    {
     "data": {
      "text/plain": [
       "(17137.13532938209, 17638.636153708234)"
      ]
     },
     "execution_count": 15,
     "metadata": {},
     "output_type": "execute_result"
    }
   ],
   "source": [
    "GBR_train_rmse, GBR_test_rmse"
   ]
  },
  {
   "cell_type": "code",
   "execution_count": 16,
   "metadata": {},
   "outputs": [
    {
     "data": {
      "text/plain": [
       "{'IMP_CLAGE': 0.0,\n",
       " 'IMP_CLNO': 0.0,\n",
       " 'IMP_DEBTINC': 0.0,\n",
       " 'IMP_DELINQ': 0.0,\n",
       " 'IMP_DEROG': 0.0,\n",
       " 'IMP_LOAN': 0.0,\n",
       " 'IMP_MORTDUE': 0.0,\n",
       " 'IMP_NINQ': 0.0,\n",
       " 'IMP_VALUE': 0.0,\n",
       " 'IMP_YOJ': 0.0,\n",
       " 'flag_CLAGE': 0.0,\n",
       " 'flag_CLNO': 0.0,\n",
       " 'flag_DEBTINC': 0.0,\n",
       " 'flag_DELINQ': 0.0,\n",
       " 'flag_DEROG': 0.0,\n",
       " 'flag_LOAN': 0.0,\n",
       " 'flag_MORTDUE': 0.0,\n",
       " 'flag_NINQ': 0.0,\n",
       " 'flag_VALUE': 0.0,\n",
       " 'flag_YOJ': 0.0,\n",
       " 'z_JOB_Office': 0.0,\n",
       " 'z_JOB_Other': 0.0,\n",
       " 'z_JOB_ProfExe': 0.0,\n",
       " 'z_JOB_Sales': 0.0,\n",
       " 'z_JOB_Self': 0.0,\n",
       " 'z_REASON_HomeImp': 0.0}"
      ]
     },
     "execution_count": 16,
     "metadata": {},
     "output_type": "execute_result"
    }
   ],
   "source": [
    "dict(zip(x_train.columns, GBR.feature_importances_))"
   ]
  }
 ],
 "metadata": {
  "kernelspec": {
   "display_name": "Python 3.10.5 64-bit",
   "language": "python",
   "name": "python3"
  },
  "language_info": {
   "codemirror_mode": {
    "name": "ipython",
    "version": 3
   },
   "file_extension": ".py",
   "mimetype": "text/x-python",
   "name": "python",
   "nbconvert_exporter": "python",
   "pygments_lexer": "ipython3",
   "version": "3.10.5"
  },
  "orig_nbformat": 4,
  "vscode": {
   "interpreter": {
    "hash": "4217bdb66c1619d3c7bf3a5f6dea8f7bd4200ce5b7b90b812037b80bad35d2ee"
   }
  }
 },
 "nbformat": 4,
 "nbformat_minor": 2
}
