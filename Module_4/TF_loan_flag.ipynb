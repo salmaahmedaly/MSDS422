{
 "cells": [
  {
   "cell_type": "code",
   "execution_count": null,
   "metadata": {},
   "outputs": [],
   "source": [
    "%load_ext autoreload\n",
    "%autoreload 2\n",
    "import pandas as pd\n",
    "import tensorflow as tf\n",
    "from tensorflow.keras.layers import Dense\n",
    "from tensorflow.keras.layers import Activation\n",
    "from sklearn.linear_model import LinearRegression\n",
    "from sklearn.preprocessing import MinMaxScaler\n",
    "import functions as f\n",
    "import json"
   ]
  },
  {
   "cell_type": "markdown",
   "metadata": {},
   "source": [
    "Develop a model using Tensor Flow that will predict Loan Default. \n",
    "For your model, do the following:\n",
    "Try at least three different Activation Functions\n",
    "Try one and two hidden layers\n",
    "Try using a Dropout Layer\n",
    "Explore using a variable selection technique\n",
    "For each of the models\n",
    "Calculate the accuracy of the model on both the training and test data set\n",
    "Create a graph that shows the ROC curves for both the training and test data set. Clearly label each curve and display the Area Under the ROC curve.\n",
    "Display a ROC curve for the test data with all your models on the same graph (tree based, regression, and TF). Discuss which one is the most accurate. Which one would you recommend using?"
   ]
  },
  {
   "cell_type": "code",
   "execution_count": null,
   "metadata": {},
   "outputs": [],
   "source": [
    "# Opening JSON file and save as a dict\n",
    "winners_dict = open('../Module_3/winners.json')\n",
    "winners_dict = json.load(winners_dict)\n"
   ]
  },
  {
   "cell_type": "code",
   "execution_count": null,
   "metadata": {},
   "outputs": [],
   "source": [
    "\n",
    "target_a = 'TARGET_BAD_FLAG'\n",
    "target_b = 'IMP_O_TARGET_LOSS_AMT'\n",
    "\n",
    "keep_features= winners_dict['sfs_best_model']"
   ]
  },
  {
   "cell_type": "code",
   "execution_count": null,
   "metadata": {},
   "outputs": [],
   "source": [
    "df = f.clean_df(file_path= '../../data_sets/SA_clean_O_fixed_HMEQ_Loss.csv', remove_cols=['z_JOB', 'z_REASON','flag_LOAN', 'Unnamed: 0'])"
   ]
  },
  {
   "cell_type": "code",
   "execution_count": null,
   "metadata": {},
   "outputs": [],
   "source": [
    "#Pre Processing "
   ]
  },
  {
   "cell_type": "code",
   "execution_count": null,
   "metadata": {},
   "outputs": [],
   "source": [
    "train_cols = list(df.columns.difference((target_a, target_b)))\n",
    "x_train, x_test, y_train, y_test = f.split_df(df = df.copy(), train_cols=train_cols, \n",
    "test_cols = [target_a, target_b], test_size=0.2, rand_seed=1)"
   ]
  },
  {
   "cell_type": "code",
   "execution_count": null,
   "metadata": {},
   "outputs": [],
   "source": [
    "theScaler = MinMaxScaler()\n",
    "theScaler.fit(x_train)"
   ]
  },
  {
   "cell_type": "code",
   "execution_count": null,
   "metadata": {},
   "outputs": [],
   "source": [
    "u_train = pd.DataFrame(theScaler.transform(x_train))\n",
    "u_test = pd.DataFrame(theScaler.transform(x_test))\n",
    "u_train.columns = list(x_train.columns.values)\n",
    "u_test.columns = list(x_train.columns.values)\n",
    "u_train_sub= u_train[keep_features]\n",
    "u_test_sub= u_test[keep_features]"
   ]
  },
  {
   "cell_type": "code",
   "execution_count": null,
   "metadata": {},
   "outputs": [],
   "source": [
    "#Model 1\n",
    "#I hidden layer\n",
    "#relu activation function\n",
    "#feature selected from forward variable selection "
   ]
  },
  {
   "cell_type": "code",
   "execution_count": 61,
   "metadata": {},
   "outputs": [
    {
     "data": {
      "text/plain": [
       "<keras.callbacks.History at 0x2288883db10>"
      ]
     },
     "execution_count": 61,
     "metadata": {},
     "output_type": "execute_result"
    }
   ],
   "source": [
    "theShapeSize_1 = u_train_sub.shape[1] #the number of input variables \n",
    "theActivation_1 = tf.keras.activations.relu\n",
    "output_activation_1 = tf.keras.activations.softmax\n",
    "theLossMetric_1 = tf.keras.losses.SparseCategoricalCrossentropy()\n",
    "theOptimizer_1 = tf.keras.optimizers.Adam()\n",
    "theEpochs_1 = 100\n",
    "theUnits_1 = int(2*theShapeSize_1)\n",
    "\n",
    "LAYER_01_01 = tf.keras.layers.Dense( units=theUnits_1, activation=theActivation_1, input_dim=theShapeSize_1 )\n",
    "LAYER_OUTPUT_01 = tf.keras.layers.Dense( units=2, activation=output_activation_1 )\n",
    "\n",
    "model_01 = tf.keras.Sequential()\n",
    "model_01.add( LAYER_01_01)\n",
    "model_01.add( LAYER_OUTPUT_01 )\n",
    "\n",
    "model_01.compile( loss=theLossMetric_1,optimizer=theOptimizer_1)\n",
    "model_01.fit( u_train_sub, y_train[target_a], epochs=theEpochs_1, verbose=False )\n"
   ]
  },
  {
   "cell_type": "code",
   "execution_count": 62,
   "metadata": {},
   "outputs": [
    {
     "name": "stdout",
     "output_type": "stream",
     "text": [
      "149/149 [==============================] - 0s 964us/step\n",
      "38/38 [==============================] - 0s 943us/step\n"
     ]
    }
   ],
   "source": [
    "train_acc_01 = f.get_TF_ProbAccuracyScores('TF Train', model_01, u_train_sub, y_train[target_a])\n",
    "test_acc_01 = f.get_TF_ProbAccuracyScores('TF Test', model_01, u_test_sub, y_test[target_a])"
   ]
  },
  {
   "cell_type": "code",
   "execution_count": 63,
   "metadata": {},
   "outputs": [
    {
     "name": "stdout",
     "output_type": "stream",
     "text": [
      "TF Accuracy\n",
      "======\n",
      "TF Train  =  0.9018456375838926\n",
      "TF Test  =  0.8850671140939598\n",
      "------\n",
      "\n",
      "\n"
     ]
    }
   ],
   "source": [
    "f.print_Accuracy('TF Accuracy', [train_acc_01,test_acc_01])"
   ]
  },
  {
   "cell_type": "code",
   "execution_count": 64,
   "metadata": {},
   "outputs": [
    {
     "data": {
      "image/png": "[encoded data removed]",
      "text/plain": [
       "<Figure size 432x288 with 1 Axes>"
      ]
     },
     "metadata": {
      "needs_background": "light"
     },
     "output_type": "display_data"
    }
   ],
   "source": [
    "f.print_ROC_Curve('TF', [train_acc_01, test_acc_01])"
   ]
  },
  {
   "cell_type": "code",
   "execution_count": 65,
   "metadata": {},
   "outputs": [],
   "source": [
    "#Model 2\n",
    "#2 hidden layer\n",
    "#relu activation function\n",
    "#feature selected from forward variable selection "
   ]
  },
  {
   "cell_type": "code",
   "execution_count": 66,
   "metadata": {},
   "outputs": [
    {
     "data": {
      "text/plain": [
       "<keras.callbacks.History at 0x22884213af0>"
      ]
     },
     "execution_count": 66,
     "metadata": {},
     "output_type": "execute_result"
    }
   ],
   "source": [
    "LAYER_02_01 = tf.keras.layers.Dense( units=theUnits_1, activation=theActivation_1, input_dim=theShapeSize_1 )\n",
    "LAYER_02_02 = tf.keras.layers.Dense( units=theUnits_1, activation=theActivation_1 )\n",
    "LAYER_OUTPUT_02 = tf.keras.layers.Dense( units=2, activation=output_activation_1 )\n",
    "\n",
    "model_02 = tf.keras.Sequential()\n",
    "model_02.add( LAYER_02_01)\n",
    "model_02.add( LAYER_02_02)\n",
    "model_02.add( LAYER_OUTPUT_02 )\n",
    "\n",
    "model_02.compile( loss=theLossMetric_1,optimizer=theOptimizer_1)\n",
    "model_02.fit( u_train_sub, y_train[target_a], epochs=theEpochs_1, verbose=False )\n",
    "\n"
   ]
  },
  {
   "cell_type": "code",
   "execution_count": 67,
   "metadata": {},
   "outputs": [
    {
     "name": "stdout",
     "output_type": "stream",
     "text": [
      "149/149 [==============================] - 0s 2ms/step\n",
      "38/38 [==============================] - 0s 1ms/step\n",
      "TF Accuracy\n",
      "======\n",
      "TF Train  =  0.9236577181208053\n",
      "TF Test  =  0.889261744966443\n",
      "------\n",
      "\n",
      "\n"
     ]
    }
   ],
   "source": [
    "train_acc_02= f.get_TF_ProbAccuracyScores('TF Train', model_02, u_train_sub, y_train[target_a])\n",
    "test_acc_02 = f.get_TF_ProbAccuracyScores('TF Test', model_02, u_test_sub, y_test[target_a])\n",
    "f.print_Accuracy('TF Accuracy', [train_acc_02,test_acc_02])\n"
   ]
  },
  {
   "cell_type": "code",
   "execution_count": 68,
   "metadata": {},
   "outputs": [
    {
     "data": {
      "image/png": "[encoded data removed]",
      "text/plain": [
       "<Figure size 432x288 with 1 Axes>"
      ]
     },
     "metadata": {
      "needs_background": "light"
     },
     "output_type": "display_data"
    }
   ],
   "source": [
    "f.print_ROC_Curve('TF', [train_acc_02, test_acc_02])"
   ]
  },
  {
   "cell_type": "code",
   "execution_count": 69,
   "metadata": {},
   "outputs": [],
   "source": [
    "#Model 3\n",
    "#2 hidden layer\n",
    "#drop layer\n",
    "#relu activation function\n",
    "#feature selected from forward variable selection "
   ]
  },
  {
   "cell_type": "code",
   "execution_count": 70,
   "metadata": {},
   "outputs": [
    {
     "data": {
      "text/plain": [
       "<keras.callbacks.History at 0x228867162f0>"
      ]
     },
     "execution_count": 70,
     "metadata": {},
     "output_type": "execute_result"
    }
   ],
   "source": [
    "LAYER_03_01 = tf.keras.layers.Dense( units=theUnits_1, activation=theActivation_1, input_dim=theShapeSize_1 )\n",
    "LAYER_03_02 = tf.keras.layers.Dense( units=theUnits_1, activation=theActivation_1 )\n",
    "LAYER_DROP = tf.keras.layers.Dropout( 0.4)\n",
    "LAYER_OUTPUT_03 = tf.keras.layers.Dense( units=2, activation=output_activation_1 )\n",
    "\n",
    "model_03 = tf.keras.Sequential()\n",
    "model_03.add( LAYER_03_01)\n",
    "model_03.add( LAYER_03_02)\n",
    "model_03.add( LAYER_DROP)\n",
    "model_03.add( LAYER_OUTPUT_03 )\n",
    "\n",
    "model_03.compile( loss=theLossMetric_1,optimizer=theOptimizer_1)\n",
    "model_03.fit( u_train_sub, y_train[target_a], epochs=theEpochs_1, verbose=False )\n",
    "\n"
   ]
  },
  {
   "cell_type": "code",
   "execution_count": 71,
   "metadata": {},
   "outputs": [
    {
     "name": "stdout",
     "output_type": "stream",
     "text": [
      "149/149 [==============================] - 0s 2ms/step\n",
      "38/38 [==============================] - 0s 1ms/step\n",
      "TF Accuracy\n",
      "======\n",
      "TF Train  =  0.9236577181208053\n",
      "TF Test  =  0.8917785234899329\n",
      "------\n",
      "\n",
      "\n"
     ]
    }
   ],
   "source": [
    "train_acc_03= f.get_TF_ProbAccuracyScores('TF Train', model_03, u_train_sub, y_train[target_a])\n",
    "test_acc_03 = f.get_TF_ProbAccuracyScores('TF Test', model_03, u_test_sub, y_test[target_a])\n",
    "f.print_Accuracy('TF Accuracy', [train_acc_03,test_acc_03])\n"
   ]
  },
  {
   "cell_type": "code",
   "execution_count": 72,
   "metadata": {},
   "outputs": [
    {
     "data": {
      "image/png": "[encoded data removed]",
      "text/plain": [
       "<Figure size 432x288 with 1 Axes>"
      ]
     },
     "metadata": {
      "needs_background": "light"
     },
     "output_type": "display_data"
    }
   ],
   "source": [
    "f.print_ROC_Curve('TF', [train_acc_03, test_acc_03])"
   ]
  },
  {
   "cell_type": "code",
   "execution_count": null,
   "metadata": {},
   "outputs": [],
   "source": [
    "#repeating best model () with Sigmoid activation function "
   ]
  },
  {
   "cell_type": "code",
   "execution_count": 73,
   "metadata": {},
   "outputs": [
    {
     "data": {
      "text/plain": [
       "<keras.callbacks.History at 0x228877bf3a0>"
      ]
     },
     "execution_count": 73,
     "metadata": {},
     "output_type": "execute_result"
    }
   ],
   "source": [
    "\n",
    "theActivation_sig = tf.keras.activations.sigmoid\n",
    "\n",
    "LAYER_04_01 = tf.keras.layers.Dense( units=theUnits_1, activation=theActivation_sig, input_dim=theShapeSize_1 )\n",
    "LAYER_OUTPUT_04 = tf.keras.layers.Dense( units=2, activation=output_activation_1 )\n",
    "\n",
    "model_04 = tf.keras.Sequential()\n",
    "model_04.add( LAYER_04_01)\n",
    "model_04.add( LAYER_OUTPUT_04 )\n",
    "model_04.compile( loss=theLossMetric_1,optimizer=theOptimizer_1)\n",
    "model_04.fit( u_train_sub, y_train[target_a], epochs=theEpochs_1, verbose=False )\n"
   ]
  },
  {
   "cell_type": "code",
   "execution_count": 74,
   "metadata": {},
   "outputs": [
    {
     "name": "stdout",
     "output_type": "stream",
     "text": [
      "149/149 [==============================] - 0s 1ms/step\n",
      "38/38 [==============================] - 0s 1ms/step\n",
      "TF Accuracy\n",
      "======\n",
      "TF Train  =  0.8821308724832215\n",
      "TF Test  =  0.8758389261744967\n",
      "------\n",
      "\n",
      "\n"
     ]
    }
   ],
   "source": [
    "train_acc_04= f.get_TF_ProbAccuracyScores('TF Train', model_04, u_train_sub, y_train[target_a])\n",
    "test_acc_04 = f.get_TF_ProbAccuracyScores('TF Test', model_04, u_test_sub, y_test[target_a])\n",
    "f.print_Accuracy('TF Accuracy', [train_acc_04,test_acc_04])\n"
   ]
  },
  {
   "cell_type": "code",
   "execution_count": 75,
   "metadata": {},
   "outputs": [
    {
     "data": {
      "image/png": "[encoded data removed]",
      "text/plain": [
       "<Figure size 432x288 with 1 Axes>"
      ]
     },
     "metadata": {
      "needs_background": "light"
     },
     "output_type": "display_data"
    }
   ],
   "source": [
    "f.print_ROC_Curve('TF', [train_acc_03, test_acc_03])"
   ]
  },
  {
   "cell_type": "code",
   "execution_count": null,
   "metadata": {},
   "outputs": [],
   "source": [
    "#repeating best model () with Tanh activation function "
   ]
  },
  {
   "cell_type": "code",
   "execution_count": 76,
   "metadata": {},
   "outputs": [
    {
     "data": {
      "text/plain": [
       "<keras.callbacks.History at 0x228889b3580>"
      ]
     },
     "execution_count": 76,
     "metadata": {},
     "output_type": "execute_result"
    }
   ],
   "source": [
    "\n",
    "theActivation_tanh = tf.keras.activations.tanh\n",
    "\n",
    "LAYER_05_01 = tf.keras.layers.Dense( units=theUnits_1, activation=theActivation_tanh, input_dim=theShapeSize_1 )\n",
    "LAYER_OUTPUT_05 = tf.keras.layers.Dense( units=2, activation=output_activation_1 )\n",
    "\n",
    "model_05 = tf.keras.Sequential()\n",
    "model_05.add( LAYER_05_01)\n",
    "model_05.add( LAYER_OUTPUT_05 )\n",
    "model_05.compile( loss=theLossMetric_1,optimizer=theOptimizer_1)\n",
    "model_05.fit( u_train_sub, y_train[target_a], epochs=theEpochs_1, verbose=False )\n"
   ]
  },
  {
   "cell_type": "code",
   "execution_count": 78,
   "metadata": {},
   "outputs": [
    {
     "name": "stdout",
     "output_type": "stream",
     "text": [
      "149/149 [==============================] - 0s 1ms/step\n",
      "38/38 [==============================] - 0s 1ms/step\n",
      "TF Accuracy\n",
      "======\n",
      "TF Train  =  0.8894714765100671\n",
      "TF Test  =  0.8758389261744967\n",
      "------\n",
      "\n",
      "\n"
     ]
    }
   ],
   "source": [
    "train_acc_05= f.get_TF_ProbAccuracyScores('TF Train', model_05, u_train_sub, y_train[target_a])\n",
    "test_acc_05 = f.get_TF_ProbAccuracyScores('TF Test', model_05, u_test_sub, y_test[target_a])\n",
    "f.print_Accuracy('TF Accuracy', [train_acc_05,test_acc_05])\n"
   ]
  },
  {
   "cell_type": "code",
   "execution_count": 79,
   "metadata": {},
   "outputs": [
    {
     "data": {
      "image/png": "[encoded data removed]",
      "text/plain": [
       "<Figure size 432x288 with 1 Axes>"
      ]
     },
     "metadata": {
      "needs_background": "light"
     },
     "output_type": "display_data"
    }
   ],
   "source": [
    "f.print_ROC_Curve('TF', [train_acc_05, test_acc_05])"
   ]
  },
  {
   "cell_type": "code",
   "execution_count": null,
   "metadata": {},
   "outputs": [],
   "source": []
  },
  {
   "cell_type": "code",
   "execution_count": null,
   "metadata": {},
   "outputs": [],
   "source": []
  },
  {
   "cell_type": "code",
   "execution_count": null,
   "metadata": {},
   "outputs": [],
   "source": []
  }
 ],
 "metadata": {
  "kernelspec": {
   "display_name": "Python 3.10.5 64-bit",
   "language": "python",
   "name": "python3"
  },
  "language_info": {
   "codemirror_mode": {
    "name": "ipython",
    "version": 3
   },
   "file_extension": ".py",
   "mimetype": "text/x-python",
   "name": "python",
   "nbconvert_exporter": "python",
   "pygments_lexer": "ipython3",
   "version": "3.10.5"
  },
  "orig_nbformat": 4,
  "vscode": {
   "interpreter": {
    "hash": "4217bdb66c1619d3c7bf3a5f6dea8f7bd4200ce5b7b90b812037b80bad35d2ee"
   }
  }
 },
 "nbformat": 4,
 "nbformat_minor": 2
}
