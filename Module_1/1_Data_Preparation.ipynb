{
 "cells": [
  {
   "cell_type": "code",
   "execution_count": 3,
   "id": "a135257f",
   "metadata": {},
   "outputs": [],
   "source": [
    "import pandas as pd\n",
    "import numpy as np\n",
    "import matplotlib.pyplot as plt\n",
    "\n",
    "pd.options.display.float_format = '{:.2f}'.format\n",
    "\n"
   ]
  },
  {
   "cell_type": "code",
   "execution_count": 2,
   "id": "56ec7940",
   "metadata": {},
   "outputs": [],
   "source": [
    "# Download the HMEQ Data set\n",
    "# Read the data into Python\n",
    "# Explore both the input and target variables using statistical techniques.\n",
    "# Explore both the input and target variables using graphs and other visualization.\n",
    "# Look for relationships between the input variables and the targets.\n",
    "# Fix (impute) all missing data.\n",
    "# Note: For numerical data, create a flag variable to indicate if the value was missing\n",
    "# Convert all categorical variables into numeric variables ( using one hot encoding )\n",
    " "
   ]
  },
  {
   "cell_type": "code",
   "execution_count": 5,
   "id": "71f49d73",
   "metadata": {},
   "outputs": [],
   "source": [
    "data_dir = '../../data_sets/'\n",
    "data_file  = 'HMEQ_Loss.csv'\n",
    "target_a = 'TARGET_BAD_FLAG'\n",
    "target_b = 'TARGET_LOSS_AMT'"
   ]
  },
  {
   "cell_type": "code",
   "execution_count": 6,
   "id": "e5f29952",
   "metadata": {},
   "outputs": [],
   "source": [
    "df = pd.read_csv(f'{data_dir}{data_file}')"
   ]
  },
  {
   "cell_type": "code",
   "execution_count": 7,
   "id": "31c99c52",
   "metadata": {},
   "outputs": [
    {
     "data": {
      "text/plain": [
       "(5960, 14)"
      ]
     },
     "metadata": {},
     "output_type": "display_data"
    },
    {
     "data": {
      "text/html": [
       "<div>\n",
       "<style scoped>\n",
       "    .dataframe tbody tr th:only-of-type {\n",
       "        vertical-align: middle;\n",
       "    }\n",
       "\n",
       "    .dataframe tbody tr th {\n",
       "        vertical-align: top;\n",
       "    }\n",
       "\n",
       "    .dataframe thead th {\n",
       "        text-align: right;\n",
       "    }\n",
       "</style>\n",
       "<table border=\"1\" class=\"dataframe\">\n",
       "  <thead>\n",
       "    <tr style=\"text-align: right;\">\n",
       "      <th></th>\n",
       "      <th>TARGET_BAD_FLAG</th>\n",
       "      <th>TARGET_LOSS_AMT</th>\n",
       "      <th>LOAN</th>\n",
       "      <th>MORTDUE</th>\n",
       "      <th>VALUE</th>\n",
       "      <th>REASON</th>\n",
       "      <th>JOB</th>\n",
       "      <th>YOJ</th>\n",
       "      <th>DEROG</th>\n",
       "      <th>DELINQ</th>\n",
       "      <th>CLAGE</th>\n",
       "      <th>NINQ</th>\n",
       "      <th>CLNO</th>\n",
       "      <th>DEBTINC</th>\n",
       "    </tr>\n",
       "  </thead>\n",
       "  <tbody>\n",
       "    <tr>\n",
       "      <th>0</th>\n",
       "      <td>1</td>\n",
       "      <td>641.00</td>\n",
       "      <td>1100</td>\n",
       "      <td>25860.00</td>\n",
       "      <td>39025.00</td>\n",
       "      <td>HomeImp</td>\n",
       "      <td>Other</td>\n",
       "      <td>10.50</td>\n",
       "      <td>0.00</td>\n",
       "      <td>0.00</td>\n",
       "      <td>94.37</td>\n",
       "      <td>1.00</td>\n",
       "      <td>9.00</td>\n",
       "      <td>NaN</td>\n",
       "    </tr>\n",
       "    <tr>\n",
       "      <th>1</th>\n",
       "      <td>1</td>\n",
       "      <td>1109.00</td>\n",
       "      <td>1300</td>\n",
       "      <td>70053.00</td>\n",
       "      <td>68400.00</td>\n",
       "      <td>HomeImp</td>\n",
       "      <td>Other</td>\n",
       "      <td>7.00</td>\n",
       "      <td>0.00</td>\n",
       "      <td>2.00</td>\n",
       "      <td>121.83</td>\n",
       "      <td>0.00</td>\n",
       "      <td>14.00</td>\n",
       "      <td>NaN</td>\n",
       "    </tr>\n",
       "    <tr>\n",
       "      <th>2</th>\n",
       "      <td>1</td>\n",
       "      <td>767.00</td>\n",
       "      <td>1500</td>\n",
       "      <td>13500.00</td>\n",
       "      <td>16700.00</td>\n",
       "      <td>HomeImp</td>\n",
       "      <td>Other</td>\n",
       "      <td>4.00</td>\n",
       "      <td>0.00</td>\n",
       "      <td>0.00</td>\n",
       "      <td>149.47</td>\n",
       "      <td>1.00</td>\n",
       "      <td>10.00</td>\n",
       "      <td>NaN</td>\n",
       "    </tr>\n",
       "    <tr>\n",
       "      <th>3</th>\n",
       "      <td>1</td>\n",
       "      <td>1425.00</td>\n",
       "      <td>1500</td>\n",
       "      <td>NaN</td>\n",
       "      <td>NaN</td>\n",
       "      <td>NaN</td>\n",
       "      <td>NaN</td>\n",
       "      <td>NaN</td>\n",
       "      <td>NaN</td>\n",
       "      <td>NaN</td>\n",
       "      <td>NaN</td>\n",
       "      <td>NaN</td>\n",
       "      <td>NaN</td>\n",
       "      <td>NaN</td>\n",
       "    </tr>\n",
       "    <tr>\n",
       "      <th>4</th>\n",
       "      <td>0</td>\n",
       "      <td>NaN</td>\n",
       "      <td>1700</td>\n",
       "      <td>97800.00</td>\n",
       "      <td>112000.00</td>\n",
       "      <td>HomeImp</td>\n",
       "      <td>Office</td>\n",
       "      <td>3.00</td>\n",
       "      <td>0.00</td>\n",
       "      <td>0.00</td>\n",
       "      <td>93.33</td>\n",
       "      <td>0.00</td>\n",
       "      <td>14.00</td>\n",
       "      <td>NaN</td>\n",
       "    </tr>\n",
       "  </tbody>\n",
       "</table>\n",
       "</div>"
      ],
      "text/plain": [
       "   TARGET_BAD_FLAG  TARGET_LOSS_AMT  LOAN  MORTDUE     VALUE   REASON     JOB  \\\n",
       "0                1           641.00  1100 25860.00  39025.00  HomeImp   Other   \n",
       "1                1          1109.00  1300 70053.00  68400.00  HomeImp   Other   \n",
       "2                1           767.00  1500 13500.00  16700.00  HomeImp   Other   \n",
       "3                1          1425.00  1500      NaN       NaN      NaN     NaN   \n",
       "4                0              NaN  1700 97800.00 112000.00  HomeImp  Office   \n",
       "\n",
       "    YOJ  DEROG  DELINQ  CLAGE  NINQ  CLNO  DEBTINC  \n",
       "0 10.50   0.00    0.00  94.37  1.00  9.00      NaN  \n",
       "1  7.00   0.00    2.00 121.83  0.00 14.00      NaN  \n",
       "2  4.00   0.00    0.00 149.47  1.00 10.00      NaN  \n",
       "3   NaN    NaN     NaN    NaN   NaN   NaN      NaN  \n",
       "4  3.00   0.00    0.00  93.33  0.00 14.00      NaN  "
      ]
     },
     "metadata": {},
     "output_type": "display_data"
    },
    {
     "data": {
      "text/plain": [
       "TARGET_BAD_FLAG      int64\n",
       "TARGET_LOSS_AMT    float64\n",
       "LOAN                 int64\n",
       "MORTDUE            float64\n",
       "VALUE              float64\n",
       "REASON              object\n",
       "JOB                 object\n",
       "YOJ                float64\n",
       "DEROG              float64\n",
       "DELINQ             float64\n",
       "CLAGE              float64\n",
       "NINQ               float64\n",
       "CLNO               float64\n",
       "DEBTINC            float64\n",
       "dtype: object"
      ]
     },
     "metadata": {},
     "output_type": "display_data"
    },
    {
     "data": {
      "text/html": [
       "<div>\n",
       "<style scoped>\n",
       "    .dataframe tbody tr th:only-of-type {\n",
       "        vertical-align: middle;\n",
       "    }\n",
       "\n",
       "    .dataframe tbody tr th {\n",
       "        vertical-align: top;\n",
       "    }\n",
       "\n",
       "    .dataframe thead th {\n",
       "        text-align: right;\n",
       "    }\n",
       "</style>\n",
       "<table border=\"1\" class=\"dataframe\">\n",
       "  <thead>\n",
       "    <tr style=\"text-align: right;\">\n",
       "      <th></th>\n",
       "      <th>count</th>\n",
       "      <th>mean</th>\n",
       "      <th>std</th>\n",
       "      <th>min</th>\n",
       "      <th>25%</th>\n",
       "      <th>50%</th>\n",
       "      <th>75%</th>\n",
       "      <th>max</th>\n",
       "    </tr>\n",
       "  </thead>\n",
       "  <tbody>\n",
       "    <tr>\n",
       "      <th>TARGET_BAD_FLAG</th>\n",
       "      <td>5960.00</td>\n",
       "      <td>0.20</td>\n",
       "      <td>0.40</td>\n",
       "      <td>0.00</td>\n",
       "      <td>0.00</td>\n",
       "      <td>0.00</td>\n",
       "      <td>0.00</td>\n",
       "      <td>1.00</td>\n",
       "    </tr>\n",
       "    <tr>\n",
       "      <th>TARGET_LOSS_AMT</th>\n",
       "      <td>1189.00</td>\n",
       "      <td>13414.58</td>\n",
       "      <td>10839.46</td>\n",
       "      <td>224.00</td>\n",
       "      <td>5639.00</td>\n",
       "      <td>11003.00</td>\n",
       "      <td>17634.00</td>\n",
       "      <td>78987.00</td>\n",
       "    </tr>\n",
       "    <tr>\n",
       "      <th>LOAN</th>\n",
       "      <td>5960.00</td>\n",
       "      <td>18607.97</td>\n",
       "      <td>11207.48</td>\n",
       "      <td>1100.00</td>\n",
       "      <td>11100.00</td>\n",
       "      <td>16300.00</td>\n",
       "      <td>23300.00</td>\n",
       "      <td>89900.00</td>\n",
       "    </tr>\n",
       "    <tr>\n",
       "      <th>MORTDUE</th>\n",
       "      <td>5442.00</td>\n",
       "      <td>73760.82</td>\n",
       "      <td>44457.61</td>\n",
       "      <td>2063.00</td>\n",
       "      <td>46276.00</td>\n",
       "      <td>65019.00</td>\n",
       "      <td>91488.00</td>\n",
       "      <td>399550.00</td>\n",
       "    </tr>\n",
       "    <tr>\n",
       "      <th>VALUE</th>\n",
       "      <td>5848.00</td>\n",
       "      <td>101776.05</td>\n",
       "      <td>57385.78</td>\n",
       "      <td>8000.00</td>\n",
       "      <td>66075.50</td>\n",
       "      <td>89235.50</td>\n",
       "      <td>119824.25</td>\n",
       "      <td>855909.00</td>\n",
       "    </tr>\n",
       "    <tr>\n",
       "      <th>YOJ</th>\n",
       "      <td>5445.00</td>\n",
       "      <td>8.92</td>\n",
       "      <td>7.57</td>\n",
       "      <td>0.00</td>\n",
       "      <td>3.00</td>\n",
       "      <td>7.00</td>\n",
       "      <td>13.00</td>\n",
       "      <td>41.00</td>\n",
       "    </tr>\n",
       "    <tr>\n",
       "      <th>DEROG</th>\n",
       "      <td>5252.00</td>\n",
       "      <td>0.25</td>\n",
       "      <td>0.85</td>\n",
       "      <td>0.00</td>\n",
       "      <td>0.00</td>\n",
       "      <td>0.00</td>\n",
       "      <td>0.00</td>\n",
       "      <td>10.00</td>\n",
       "    </tr>\n",
       "    <tr>\n",
       "      <th>DELINQ</th>\n",
       "      <td>5380.00</td>\n",
       "      <td>0.45</td>\n",
       "      <td>1.13</td>\n",
       "      <td>0.00</td>\n",
       "      <td>0.00</td>\n",
       "      <td>0.00</td>\n",
       "      <td>0.00</td>\n",
       "      <td>15.00</td>\n",
       "    </tr>\n",
       "    <tr>\n",
       "      <th>CLAGE</th>\n",
       "      <td>5652.00</td>\n",
       "      <td>179.77</td>\n",
       "      <td>85.81</td>\n",
       "      <td>0.00</td>\n",
       "      <td>115.12</td>\n",
       "      <td>173.47</td>\n",
       "      <td>231.56</td>\n",
       "      <td>1168.23</td>\n",
       "    </tr>\n",
       "    <tr>\n",
       "      <th>NINQ</th>\n",
       "      <td>5450.00</td>\n",
       "      <td>1.19</td>\n",
       "      <td>1.73</td>\n",
       "      <td>0.00</td>\n",
       "      <td>0.00</td>\n",
       "      <td>1.00</td>\n",
       "      <td>2.00</td>\n",
       "      <td>17.00</td>\n",
       "    </tr>\n",
       "    <tr>\n",
       "      <th>CLNO</th>\n",
       "      <td>5738.00</td>\n",
       "      <td>21.30</td>\n",
       "      <td>10.14</td>\n",
       "      <td>0.00</td>\n",
       "      <td>15.00</td>\n",
       "      <td>20.00</td>\n",
       "      <td>26.00</td>\n",
       "      <td>71.00</td>\n",
       "    </tr>\n",
       "    <tr>\n",
       "      <th>DEBTINC</th>\n",
       "      <td>4693.00</td>\n",
       "      <td>33.78</td>\n",
       "      <td>8.60</td>\n",
       "      <td>0.52</td>\n",
       "      <td>29.14</td>\n",
       "      <td>34.82</td>\n",
       "      <td>39.00</td>\n",
       "      <td>203.31</td>\n",
       "    </tr>\n",
       "  </tbody>\n",
       "</table>\n",
       "</div>"
      ],
      "text/plain": [
       "                  count      mean      std     min      25%      50%  \\\n",
       "TARGET_BAD_FLAG 5960.00      0.20     0.40    0.00     0.00     0.00   \n",
       "TARGET_LOSS_AMT 1189.00  13414.58 10839.46  224.00  5639.00 11003.00   \n",
       "LOAN            5960.00  18607.97 11207.48 1100.00 11100.00 16300.00   \n",
       "MORTDUE         5442.00  73760.82 44457.61 2063.00 46276.00 65019.00   \n",
       "VALUE           5848.00 101776.05 57385.78 8000.00 66075.50 89235.50   \n",
       "YOJ             5445.00      8.92     7.57    0.00     3.00     7.00   \n",
       "DEROG           5252.00      0.25     0.85    0.00     0.00     0.00   \n",
       "DELINQ          5380.00      0.45     1.13    0.00     0.00     0.00   \n",
       "CLAGE           5652.00    179.77    85.81    0.00   115.12   173.47   \n",
       "NINQ            5450.00      1.19     1.73    0.00     0.00     1.00   \n",
       "CLNO            5738.00     21.30    10.14    0.00    15.00    20.00   \n",
       "DEBTINC         4693.00     33.78     8.60    0.52    29.14    34.82   \n",
       "\n",
       "                      75%       max  \n",
       "TARGET_BAD_FLAG      0.00      1.00  \n",
       "TARGET_LOSS_AMT  17634.00  78987.00  \n",
       "LOAN             23300.00  89900.00  \n",
       "MORTDUE          91488.00 399550.00  \n",
       "VALUE           119824.25 855909.00  \n",
       "YOJ                 13.00     41.00  \n",
       "DEROG                0.00     10.00  \n",
       "DELINQ               0.00     15.00  \n",
       "CLAGE              231.56   1168.23  \n",
       "NINQ                 2.00     17.00  \n",
       "CLNO                26.00     71.00  \n",
       "DEBTINC             39.00    203.31  "
      ]
     },
     "metadata": {},
     "output_type": "display_data"
    }
   ],
   "source": [
    "display(df.shape, df.head(), df.dtypes, df.describe().T)"
   ]
  },
  {
   "cell_type": "code",
   "execution_count": 6,
   "id": "26b5e46b",
   "metadata": {},
   "outputs": [
    {
     "name": "stdout",
     "output_type": "stream",
     "text": [
      "TARGET_LOSS_AMT sum of nans: 4771 pct of missing: 0.8005 \n",
      "\n",
      "MORTDUE sum of nans: 518 pct of missing: 0.0869 \n",
      "\n",
      "VALUE sum of nans: 112 pct of missing: 0.0188 \n",
      "\n",
      "REASON sum of nans: 252 pct of missing: 0.0423 \n",
      "\n",
      "JOB sum of nans: 279 pct of missing: 0.0468 \n",
      "\n",
      "YOJ sum of nans: 515 pct of missing: 0.0864 \n",
      "\n",
      "DEROG sum of nans: 708 pct of missing: 0.1188 \n",
      "\n",
      "DELINQ sum of nans: 580 pct of missing: 0.0973 \n",
      "\n",
      "CLAGE sum of nans: 308 pct of missing: 0.0517 \n",
      "\n",
      "NINQ sum of nans: 510 pct of missing: 0.0856 \n",
      "\n",
      "CLNO sum of nans: 222 pct of missing: 0.0372 \n",
      "\n",
      "DEBTINC sum of nans: 1267 pct of missing: 0.2126 \n",
      "\n"
     ]
    }
   ],
   "source": [
    "#exploring missing value\n",
    "#target loss amount has about 80% missing values, assuming these are the not bad loan.\n",
    "#if that's the case, will fill mmissing values with 0\n",
    "for i in df.columns:\n",
    "    if df[i].isna().sum()==0: continue\n",
    "    print(i, 'sum of nans:', df[i].isna().sum(), 'pct of missing:', round(df[i].isna().sum()/df.shape[0],4), '\\n') #this print columns names with 0 values "
   ]
  },
  {
   "cell_type": "code",
   "execution_count": 7,
   "id": "ae879d54",
   "metadata": {},
   "outputs": [
    {
     "data": {
      "text/plain": [
       "0    4771\n",
       "1    1189\n",
       "Name: TARGET_BAD_FLAG, dtype: int64"
      ]
     },
     "metadata": {},
     "output_type": "display_data"
    },
    {
     "data": {
      "image/png": "[encoded data removed]",
      "text/plain": [
       "<Figure size 432x288 with 1 Axes>"
      ]
     },
     "metadata": {
      "needs_background": "light"
     },
     "output_type": "display_data"
    }
   ],
   "source": [
    "#exploring target variables\n",
    "display(df[target_a].value_counts())\n",
    "plt.boxplot(df[target_b].dropna())\n",
    "plt.show()"
   ]
  },
  {
   "cell_type": "code",
   "execution_count": 22,
   "id": "5577380b",
   "metadata": {},
   "outputs": [
    {
     "data": {
      "text/plain": [
       "['TARGET_BAD_FLAG',\n",
       " 'TARGET_LOSS_AMT',\n",
       " 'LOAN',\n",
       " 'MORTDUE',\n",
       " 'VALUE',\n",
       " 'YOJ',\n",
       " 'DEROG',\n",
       " 'DELINQ',\n",
       " 'CLAGE',\n",
       " 'NINQ',\n",
       " 'CLNO',\n",
       " 'DEBTINC']"
      ]
     },
     "execution_count": 22,
     "metadata": {},
     "output_type": "execute_result"
    }
   ],
   "source": []
  },
  {
   "cell_type": "code",
   "execution_count": 29,
   "id": "9e3cd254",
   "metadata": {},
   "outputs": [
    {
     "data": {
      "image/png": "[encoded data removed]",
      "text/plain": [
       "<Figure size 432x288 with 1 Axes>"
      ]
     },
     "metadata": {
      "needs_background": "light"
     },
     "output_type": "display_data"
    },
    {
     "data": {
      "image/png": "[encoded data removed]",
      "text/plain": [
       "<Figure size 432x288 with 1 Axes>"
      ]
     },
     "metadata": {
      "needs_background": "light"
     },
     "output_type": "display_data"
    },
    {
     "data": {
      "image/png": "[encoded data removed]",
      "text/plain": [
       "<Figure size 432x288 with 1 Axes>"
      ]
     },
     "metadata": {
      "needs_background": "light"
     },
     "output_type": "display_data"
    },
    {
     "data": {
      "image/png": "[encoded data removed]",
      "text/plain": [
       "<Figure size 432x288 with 1 Axes>"
      ]
     },
     "metadata": {
      "needs_background": "light"
     },
     "output_type": "display_data"
    },
    {
     "data": {
      "image/png": "[encoded data removed]",
      "text/plain": [
       "<Figure size 432x288 with 1 Axes>"
      ]
     },
     "metadata": {
      "needs_background": "light"
     },
     "output_type": "display_data"
    },
    {
     "data": {
      "image/png": "[encoded data removed]",
      "text/plain": [
       "<Figure size 432x288 with 1 Axes>"
      ]
     },
     "metadata": {
      "needs_background": "light"
     },
     "output_type": "display_data"
    },
    {
     "data": {
      "image/png": "[encoded data removed]",
      "text/plain": [
       "<Figure size 432x288 with 1 Axes>"
      ]
     },
     "metadata": {
      "needs_background": "light"
     },
     "output_type": "display_data"
    },
    {
     "data": {
      "image/png": "[encoded data removed]",
      "text/plain": [
       "<Figure size 432x288 with 1 Axes>"
      ]
     },
     "metadata": {
      "needs_background": "light"
     },
     "output_type": "display_data"
    },
    {
     "data": {
      "image/png": "[encoded data removed]",
      "text/plain": [
       "<Figure size 432x288 with 1 Axes>"
      ]
     },
     "metadata": {
      "needs_background": "light"
     },
     "output_type": "display_data"
    },
    {
     "data": {
      "image/png": "[encoded data removed]",
      "text/plain": [
       "<Figure size 432x288 with 1 Axes>"
      ]
     },
     "metadata": {
      "needs_background": "light"
     },
     "output_type": "display_data"
    },
    {
     "data": {
      "image/png": "[encoded data removed]",
      "text/plain": [
       "<Figure size 432x288 with 1 Axes>"
      ]
     },
     "metadata": {
      "needs_background": "light"
     },
     "output_type": "display_data"
    },
    {
     "data": {
      "image/png": "[encoded data removed]",
      "text/plain": [
       "<Figure size 432x288 with 1 Axes>"
      ]
     },
     "metadata": {
      "needs_background": "light"
     },
     "output_type": "display_data"
    }
   ],
   "source": [
    "for var in df.columns:\n",
    "    if df[var].dtype != 'object':\n",
    "        plt.boxplot(df[var].dropna())\n",
    "        plt.xlabel(var)\n",
    "        plt.show()\n"
   ]
  },
  {
   "cell_type": "code",
   "execution_count": 8,
   "id": "789879a8",
   "metadata": {},
   "outputs": [
    {
     "name": "stdout",
     "output_type": "stream",
     "text": [
      "*******REASON********\n",
      "unique values: ['HomeImp' nan 'DebtCon'] \n",
      "\n",
      "Value Counts: DebtCon    3928\n",
      "HomeImp    1780\n",
      "Name: REASON, dtype: int64 \n",
      "\n"
     ]
    },
    {
     "data": {
      "image/png": "[encoded data removed]",
      "text/plain": [
       "<Figure size 432x288 with 1 Axes>"
      ]
     },
     "metadata": {
      "needs_background": "light"
     },
     "output_type": "display_data"
    },
    {
     "data": {
      "image/png": "[encoded data removed]",
      "text/plain": [
       "<Figure size 432x288 with 1 Axes>"
      ]
     },
     "metadata": {
      "needs_background": "light"
     },
     "output_type": "display_data"
    },
    {
     "name": "stdout",
     "output_type": "stream",
     "text": [
      "*******JOB********\n",
      "unique values: ['Other' nan 'Office' 'Sales' 'Mgr' 'ProfExe' 'Self'] \n",
      "\n",
      "Value Counts: Other      2388\n",
      "ProfExe    1276\n",
      "Office      948\n",
      "Mgr         767\n",
      "Self        193\n",
      "Sales       109\n",
      "Name: JOB, dtype: int64 \n",
      "\n"
     ]
    },
    {
     "data": {
      "image/png": "[encoded data removed]",
      "text/plain": [
       "<Figure size 432x288 with 1 Axes>"
      ]
     },
     "metadata": {
      "needs_background": "light"
     },
     "output_type": "display_data"
    },
    {
     "data": {
      "image/png": "[encoded data removed]",
      "text/plain": [
       "<Figure size 432x288 with 1 Axes>"
      ]
     },
     "metadata": {
      "needs_background": "light"
     },
     "output_type": "display_data"
    }
   ],
   "source": [
    "#check Unique Values for categorical variables\n",
    "for col in df.columns:\n",
    "    if  df[col].dtype == 'object':\n",
    "        print (f'*******{col}********')\n",
    "        print(f'unique values: {df[col].unique()}', '\\n')\n",
    "        print(f'Value Counts: {df[col].value_counts()}', '\\n')\n",
    "        df.groupby(col)[target_b].sum().plot(kind = 'bar')\n",
    "        plt.title(target_b)\n",
    "        plt.show()\n",
    "        df.groupby(col)[target_a].sum().plot(kind = 'bar')\n",
    "        plt.title(target_a)\n",
    "        plt.show()\n",
    "\n"
   ]
  },
  {
   "cell_type": "code",
   "execution_count": 9,
   "id": "17570766",
   "metadata": {},
   "outputs": [
    {
     "data": {
      "text/html": [
       "<div>\n",
       "<style scoped>\n",
       "    .dataframe tbody tr th:only-of-type {\n",
       "        vertical-align: middle;\n",
       "    }\n",
       "\n",
       "    .dataframe tbody tr th {\n",
       "        vertical-align: top;\n",
       "    }\n",
       "\n",
       "    .dataframe thead th {\n",
       "        text-align: right;\n",
       "    }\n",
       "</style>\n",
       "<table border=\"1\" class=\"dataframe\">\n",
       "  <thead>\n",
       "    <tr style=\"text-align: right;\">\n",
       "      <th></th>\n",
       "      <th>TARGET_BAD_FLAG</th>\n",
       "      <th>TARGET_LOSS_AMT</th>\n",
       "      <th>LOAN</th>\n",
       "      <th>MORTDUE</th>\n",
       "      <th>VALUE</th>\n",
       "      <th>REASON</th>\n",
       "      <th>JOB</th>\n",
       "      <th>YOJ</th>\n",
       "      <th>DEROG</th>\n",
       "      <th>DELINQ</th>\n",
       "      <th>CLAGE</th>\n",
       "      <th>NINQ</th>\n",
       "      <th>CLNO</th>\n",
       "      <th>DEBTINC</th>\n",
       "    </tr>\n",
       "  </thead>\n",
       "  <tbody>\n",
       "    <tr>\n",
       "      <th>0</th>\n",
       "      <td>1</td>\n",
       "      <td>641.00</td>\n",
       "      <td>1100</td>\n",
       "      <td>25860.00</td>\n",
       "      <td>39025.00</td>\n",
       "      <td>HomeImp</td>\n",
       "      <td>Other</td>\n",
       "      <td>10.50</td>\n",
       "      <td>0.00</td>\n",
       "      <td>0.00</td>\n",
       "      <td>94.37</td>\n",
       "      <td>1.00</td>\n",
       "      <td>9.00</td>\n",
       "      <td>NaN</td>\n",
       "    </tr>\n",
       "    <tr>\n",
       "      <th>1</th>\n",
       "      <td>1</td>\n",
       "      <td>1109.00</td>\n",
       "      <td>1300</td>\n",
       "      <td>70053.00</td>\n",
       "      <td>68400.00</td>\n",
       "      <td>HomeImp</td>\n",
       "      <td>Other</td>\n",
       "      <td>7.00</td>\n",
       "      <td>0.00</td>\n",
       "      <td>2.00</td>\n",
       "      <td>121.83</td>\n",
       "      <td>0.00</td>\n",
       "      <td>14.00</td>\n",
       "      <td>NaN</td>\n",
       "    </tr>\n",
       "    <tr>\n",
       "      <th>2</th>\n",
       "      <td>1</td>\n",
       "      <td>767.00</td>\n",
       "      <td>1500</td>\n",
       "      <td>13500.00</td>\n",
       "      <td>16700.00</td>\n",
       "      <td>HomeImp</td>\n",
       "      <td>Other</td>\n",
       "      <td>4.00</td>\n",
       "      <td>0.00</td>\n",
       "      <td>0.00</td>\n",
       "      <td>149.47</td>\n",
       "      <td>1.00</td>\n",
       "      <td>10.00</td>\n",
       "      <td>NaN</td>\n",
       "    </tr>\n",
       "    <tr>\n",
       "      <th>3</th>\n",
       "      <td>1</td>\n",
       "      <td>1425.00</td>\n",
       "      <td>1500</td>\n",
       "      <td>NaN</td>\n",
       "      <td>NaN</td>\n",
       "      <td>NaN</td>\n",
       "      <td>NaN</td>\n",
       "      <td>NaN</td>\n",
       "      <td>NaN</td>\n",
       "      <td>NaN</td>\n",
       "      <td>NaN</td>\n",
       "      <td>NaN</td>\n",
       "      <td>NaN</td>\n",
       "      <td>NaN</td>\n",
       "    </tr>\n",
       "    <tr>\n",
       "      <th>4</th>\n",
       "      <td>0</td>\n",
       "      <td>NaN</td>\n",
       "      <td>1700</td>\n",
       "      <td>97800.00</td>\n",
       "      <td>112000.00</td>\n",
       "      <td>HomeImp</td>\n",
       "      <td>Office</td>\n",
       "      <td>3.00</td>\n",
       "      <td>0.00</td>\n",
       "      <td>0.00</td>\n",
       "      <td>93.33</td>\n",
       "      <td>0.00</td>\n",
       "      <td>14.00</td>\n",
       "      <td>NaN</td>\n",
       "    </tr>\n",
       "  </tbody>\n",
       "</table>\n",
       "</div>"
      ],
      "text/plain": [
       "   TARGET_BAD_FLAG  TARGET_LOSS_AMT  LOAN  MORTDUE     VALUE   REASON     JOB  \\\n",
       "0                1           641.00  1100 25860.00  39025.00  HomeImp   Other   \n",
       "1                1          1109.00  1300 70053.00  68400.00  HomeImp   Other   \n",
       "2                1           767.00  1500 13500.00  16700.00  HomeImp   Other   \n",
       "3                1          1425.00  1500      NaN       NaN      NaN     NaN   \n",
       "4                0              NaN  1700 97800.00 112000.00  HomeImp  Office   \n",
       "\n",
       "    YOJ  DEROG  DELINQ  CLAGE  NINQ  CLNO  DEBTINC  \n",
       "0 10.50   0.00    0.00  94.37  1.00  9.00      NaN  \n",
       "1  7.00   0.00    2.00 121.83  0.00 14.00      NaN  \n",
       "2  4.00   0.00    0.00 149.47  1.00 10.00      NaN  \n",
       "3   NaN    NaN     NaN    NaN   NaN   NaN      NaN  \n",
       "4  3.00   0.00    0.00  93.33  0.00 14.00      NaN  "
      ]
     },
     "execution_count": 9,
     "metadata": {},
     "output_type": "execute_result"
    }
   ],
   "source": [
    "df.head()"
   ]
  },
  {
   "cell_type": "markdown",
   "id": "18204f13",
   "metadata": {},
   "source": [
    "## Imputing Missing Values"
   ]
  },
  {
   "cell_type": "code",
   "execution_count": 10,
   "id": "d5ff846d",
   "metadata": {},
   "outputs": [
    {
     "data": {
      "text/html": [
       "<div>\n",
       "<style scoped>\n",
       "    .dataframe tbody tr th:only-of-type {\n",
       "        vertical-align: middle;\n",
       "    }\n",
       "\n",
       "    .dataframe tbody tr th {\n",
       "        vertical-align: top;\n",
       "    }\n",
       "\n",
       "    .dataframe thead th {\n",
       "        text-align: right;\n",
       "    }\n",
       "</style>\n",
       "<table border=\"1\" class=\"dataframe\">\n",
       "  <thead>\n",
       "    <tr style=\"text-align: right;\">\n",
       "      <th></th>\n",
       "      <th>TARGET_BAD_FLAG</th>\n",
       "      <th>TARGET_LOSS_AMT</th>\n",
       "    </tr>\n",
       "  </thead>\n",
       "  <tbody>\n",
       "    <tr>\n",
       "      <th>4</th>\n",
       "      <td>0</td>\n",
       "      <td>NaN</td>\n",
       "    </tr>\n",
       "    <tr>\n",
       "      <th>13</th>\n",
       "      <td>0</td>\n",
       "      <td>NaN</td>\n",
       "    </tr>\n",
       "    <tr>\n",
       "      <th>19</th>\n",
       "      <td>0</td>\n",
       "      <td>NaN</td>\n",
       "    </tr>\n",
       "    <tr>\n",
       "      <th>26</th>\n",
       "      <td>0</td>\n",
       "      <td>NaN</td>\n",
       "    </tr>\n",
       "    <tr>\n",
       "      <th>29</th>\n",
       "      <td>0</td>\n",
       "      <td>NaN</td>\n",
       "    </tr>\n",
       "    <tr>\n",
       "      <th>...</th>\n",
       "      <td>...</td>\n",
       "      <td>...</td>\n",
       "    </tr>\n",
       "    <tr>\n",
       "      <th>5955</th>\n",
       "      <td>0</td>\n",
       "      <td>NaN</td>\n",
       "    </tr>\n",
       "    <tr>\n",
       "      <th>5956</th>\n",
       "      <td>0</td>\n",
       "      <td>NaN</td>\n",
       "    </tr>\n",
       "    <tr>\n",
       "      <th>5957</th>\n",
       "      <td>0</td>\n",
       "      <td>NaN</td>\n",
       "    </tr>\n",
       "    <tr>\n",
       "      <th>5958</th>\n",
       "      <td>0</td>\n",
       "      <td>NaN</td>\n",
       "    </tr>\n",
       "    <tr>\n",
       "      <th>5959</th>\n",
       "      <td>0</td>\n",
       "      <td>NaN</td>\n",
       "    </tr>\n",
       "  </tbody>\n",
       "</table>\n",
       "<p>4771 rows × 2 columns</p>\n",
       "</div>"
      ],
      "text/plain": [
       "      TARGET_BAD_FLAG  TARGET_LOSS_AMT\n",
       "4                   0              NaN\n",
       "13                  0              NaN\n",
       "19                  0              NaN\n",
       "26                  0              NaN\n",
       "29                  0              NaN\n",
       "...               ...              ...\n",
       "5955                0              NaN\n",
       "5956                0              NaN\n",
       "5957                0              NaN\n",
       "5958                0              NaN\n",
       "5959                0              NaN\n",
       "\n",
       "[4771 rows x 2 columns]"
      ]
     },
     "execution_count": 10,
     "metadata": {},
     "output_type": "execute_result"
    }
   ],
   "source": [
    "#target variables\n",
    "#only targegt loss amount had nans\n",
    "df[[target_a, target_b]][df[[target_a, target_b]].isna().any(axis=1)]"
   ]
  },
  {
   "cell_type": "code",
   "execution_count": 11,
   "id": "e37b7a97",
   "metadata": {},
   "outputs": [],
   "source": [
    "df['IMP_TARGET_LOSS_AMT'] = np.where(df['TARGET_BAD_FLAG'] == 0, 0, df['TARGET_LOSS_AMT'])\n",
    "df['FLAG_TARGET_LOSS_AMT'] = df['TARGET_LOSS_AMT'].isna()+0\n"
   ]
  },
  {
   "cell_type": "code",
   "execution_count": 12,
   "id": "78b20ed5",
   "metadata": {},
   "outputs": [],
   "source": [
    "#Categorical variables. Filling with mode\n",
    "for col in df.columns:\n",
    "    if  df[col].dtype == 'object':\n",
    "        df[f'z_{col}'] = df[col].fillna(df[col].mode()[0])\n",
    "    "
   ]
  },
  {
   "cell_type": "code",
   "execution_count": 13,
   "id": "6caa61b5",
   "metadata": {},
   "outputs": [
    {
     "name": "stdout",
     "output_type": "stream",
     "text": [
      "LOAN 16300.0\n",
      "MORTDUE 65019.0\n",
      "VALUE 89235.5\n",
      "YOJ 7.0\n",
      "DEROG 0.0\n",
      "DELINQ 0.0\n",
      "CLAGE 173.4666667\n",
      "NINQ 1.0\n",
      "CLNO 20.0\n",
      "DEBTINC 34.81826182\n"
     ]
    }
   ],
   "source": [
    "#Numeric variables. Filling with median\n",
    "for col in [ i for i in df.columns if 'TARGET_LOSS_AMT' not in i and  'TARGET_BAD_FLAG' not in i] :\n",
    "    if  df[col].dtype != 'object' and col :\n",
    "        print(col, df[col].median())\n",
    "        df[f'IMP_{col}'] = df[col].fillna(df[col].median())\n",
    "        df[f'flag_{col}'] = df[col].isna()+0    "
   ]
  },
  {
   "cell_type": "code",
   "execution_count": 14,
   "id": "d0a38cd2",
   "metadata": {},
   "outputs": [],
   "source": [
    "### One-Hot Encoding"
   ]
  },
  {
   "cell_type": "code",
   "execution_count": 15,
   "id": "7ccfd09a",
   "metadata": {},
   "outputs": [],
   "source": [
    "one_encoding_l = ['JOB', 'REASON']"
   ]
  },
  {
   "cell_type": "code",
   "execution_count": 17,
   "id": "41381396",
   "metadata": {},
   "outputs": [],
   "source": [
    "one_hot_dfs= []\n",
    "for each in one_encoding_l:\n",
    "     one_hot_dfs.append(pd.get_dummies(df[f'z_{each}'], prefix = f'z_{each}', drop_first= True))"
   ]
  },
  {
   "cell_type": "code",
   "execution_count": 18,
   "id": "533e60f9",
   "metadata": {},
   "outputs": [],
   "source": [
    "#concat to create a complete dataset \n",
    "comp_df = pd.concat([df]+one_hot_dfs, axis = 1)"
   ]
  },
  {
   "cell_type": "code",
   "execution_count": 19,
   "id": "c25ec7a4",
   "metadata": {},
   "outputs": [
    {
     "data": {
      "text/html": [
       "<div>\n",
       "<style scoped>\n",
       "    .dataframe tbody tr th:only-of-type {\n",
       "        vertical-align: middle;\n",
       "    }\n",
       "\n",
       "    .dataframe tbody tr th {\n",
       "        vertical-align: top;\n",
       "    }\n",
       "\n",
       "    .dataframe thead th {\n",
       "        text-align: right;\n",
       "    }\n",
       "</style>\n",
       "<table border=\"1\" class=\"dataframe\">\n",
       "  <thead>\n",
       "    <tr style=\"text-align: right;\">\n",
       "      <th></th>\n",
       "      <th>TARGET_BAD_FLAG</th>\n",
       "      <th>TARGET_LOSS_AMT</th>\n",
       "      <th>LOAN</th>\n",
       "      <th>MORTDUE</th>\n",
       "      <th>VALUE</th>\n",
       "      <th>REASON</th>\n",
       "      <th>JOB</th>\n",
       "      <th>YOJ</th>\n",
       "      <th>DEROG</th>\n",
       "      <th>DELINQ</th>\n",
       "      <th>...</th>\n",
       "      <th>IMP_CLNO</th>\n",
       "      <th>flag_CLNO</th>\n",
       "      <th>IMP_DEBTINC</th>\n",
       "      <th>flag_DEBTINC</th>\n",
       "      <th>z_JOB_Office</th>\n",
       "      <th>z_JOB_Other</th>\n",
       "      <th>z_JOB_ProfExe</th>\n",
       "      <th>z_JOB_Sales</th>\n",
       "      <th>z_JOB_Self</th>\n",
       "      <th>z_REASON_HomeImp</th>\n",
       "    </tr>\n",
       "  </thead>\n",
       "  <tbody>\n",
       "    <tr>\n",
       "      <th>0</th>\n",
       "      <td>1</td>\n",
       "      <td>641.00</td>\n",
       "      <td>1100</td>\n",
       "      <td>25860.00</td>\n",
       "      <td>39025.00</td>\n",
       "      <td>HomeImp</td>\n",
       "      <td>Other</td>\n",
       "      <td>10.50</td>\n",
       "      <td>0.00</td>\n",
       "      <td>0.00</td>\n",
       "      <td>...</td>\n",
       "      <td>9.00</td>\n",
       "      <td>0</td>\n",
       "      <td>34.82</td>\n",
       "      <td>1</td>\n",
       "      <td>0</td>\n",
       "      <td>1</td>\n",
       "      <td>0</td>\n",
       "      <td>0</td>\n",
       "      <td>0</td>\n",
       "      <td>1</td>\n",
       "    </tr>\n",
       "    <tr>\n",
       "      <th>1</th>\n",
       "      <td>1</td>\n",
       "      <td>1109.00</td>\n",
       "      <td>1300</td>\n",
       "      <td>70053.00</td>\n",
       "      <td>68400.00</td>\n",
       "      <td>HomeImp</td>\n",
       "      <td>Other</td>\n",
       "      <td>7.00</td>\n",
       "      <td>0.00</td>\n",
       "      <td>2.00</td>\n",
       "      <td>...</td>\n",
       "      <td>14.00</td>\n",
       "      <td>0</td>\n",
       "      <td>34.82</td>\n",
       "      <td>1</td>\n",
       "      <td>0</td>\n",
       "      <td>1</td>\n",
       "      <td>0</td>\n",
       "      <td>0</td>\n",
       "      <td>0</td>\n",
       "      <td>1</td>\n",
       "    </tr>\n",
       "    <tr>\n",
       "      <th>2</th>\n",
       "      <td>1</td>\n",
       "      <td>767.00</td>\n",
       "      <td>1500</td>\n",
       "      <td>13500.00</td>\n",
       "      <td>16700.00</td>\n",
       "      <td>HomeImp</td>\n",
       "      <td>Other</td>\n",
       "      <td>4.00</td>\n",
       "      <td>0.00</td>\n",
       "      <td>0.00</td>\n",
       "      <td>...</td>\n",
       "      <td>10.00</td>\n",
       "      <td>0</td>\n",
       "      <td>34.82</td>\n",
       "      <td>1</td>\n",
       "      <td>0</td>\n",
       "      <td>1</td>\n",
       "      <td>0</td>\n",
       "      <td>0</td>\n",
       "      <td>0</td>\n",
       "      <td>1</td>\n",
       "    </tr>\n",
       "    <tr>\n",
       "      <th>3</th>\n",
       "      <td>1</td>\n",
       "      <td>1425.00</td>\n",
       "      <td>1500</td>\n",
       "      <td>NaN</td>\n",
       "      <td>NaN</td>\n",
       "      <td>NaN</td>\n",
       "      <td>NaN</td>\n",
       "      <td>NaN</td>\n",
       "      <td>NaN</td>\n",
       "      <td>NaN</td>\n",
       "      <td>...</td>\n",
       "      <td>20.00</td>\n",
       "      <td>1</td>\n",
       "      <td>34.82</td>\n",
       "      <td>1</td>\n",
       "      <td>0</td>\n",
       "      <td>1</td>\n",
       "      <td>0</td>\n",
       "      <td>0</td>\n",
       "      <td>0</td>\n",
       "      <td>0</td>\n",
       "    </tr>\n",
       "    <tr>\n",
       "      <th>4</th>\n",
       "      <td>0</td>\n",
       "      <td>NaN</td>\n",
       "      <td>1700</td>\n",
       "      <td>97800.00</td>\n",
       "      <td>112000.00</td>\n",
       "      <td>HomeImp</td>\n",
       "      <td>Office</td>\n",
       "      <td>3.00</td>\n",
       "      <td>0.00</td>\n",
       "      <td>0.00</td>\n",
       "      <td>...</td>\n",
       "      <td>14.00</td>\n",
       "      <td>0</td>\n",
       "      <td>34.82</td>\n",
       "      <td>1</td>\n",
       "      <td>1</td>\n",
       "      <td>0</td>\n",
       "      <td>0</td>\n",
       "      <td>0</td>\n",
       "      <td>0</td>\n",
       "      <td>1</td>\n",
       "    </tr>\n",
       "    <tr>\n",
       "      <th>...</th>\n",
       "      <td>...</td>\n",
       "      <td>...</td>\n",
       "      <td>...</td>\n",
       "      <td>...</td>\n",
       "      <td>...</td>\n",
       "      <td>...</td>\n",
       "      <td>...</td>\n",
       "      <td>...</td>\n",
       "      <td>...</td>\n",
       "      <td>...</td>\n",
       "      <td>...</td>\n",
       "      <td>...</td>\n",
       "      <td>...</td>\n",
       "      <td>...</td>\n",
       "      <td>...</td>\n",
       "      <td>...</td>\n",
       "      <td>...</td>\n",
       "      <td>...</td>\n",
       "      <td>...</td>\n",
       "      <td>...</td>\n",
       "      <td>...</td>\n",
       "    </tr>\n",
       "    <tr>\n",
       "      <th>5955</th>\n",
       "      <td>0</td>\n",
       "      <td>NaN</td>\n",
       "      <td>88900</td>\n",
       "      <td>57264.00</td>\n",
       "      <td>90185.00</td>\n",
       "      <td>DebtCon</td>\n",
       "      <td>Other</td>\n",
       "      <td>16.00</td>\n",
       "      <td>0.00</td>\n",
       "      <td>0.00</td>\n",
       "      <td>...</td>\n",
       "      <td>16.00</td>\n",
       "      <td>0</td>\n",
       "      <td>36.11</td>\n",
       "      <td>0</td>\n",
       "      <td>0</td>\n",
       "      <td>1</td>\n",
       "      <td>0</td>\n",
       "      <td>0</td>\n",
       "      <td>0</td>\n",
       "      <td>0</td>\n",
       "    </tr>\n",
       "    <tr>\n",
       "      <th>5956</th>\n",
       "      <td>0</td>\n",
       "      <td>NaN</td>\n",
       "      <td>89000</td>\n",
       "      <td>54576.00</td>\n",
       "      <td>92937.00</td>\n",
       "      <td>DebtCon</td>\n",
       "      <td>Other</td>\n",
       "      <td>16.00</td>\n",
       "      <td>0.00</td>\n",
       "      <td>0.00</td>\n",
       "      <td>...</td>\n",
       "      <td>15.00</td>\n",
       "      <td>0</td>\n",
       "      <td>35.86</td>\n",
       "      <td>0</td>\n",
       "      <td>0</td>\n",
       "      <td>1</td>\n",
       "      <td>0</td>\n",
       "      <td>0</td>\n",
       "      <td>0</td>\n",
       "      <td>0</td>\n",
       "    </tr>\n",
       "    <tr>\n",
       "      <th>5957</th>\n",
       "      <td>0</td>\n",
       "      <td>NaN</td>\n",
       "      <td>89200</td>\n",
       "      <td>54045.00</td>\n",
       "      <td>92924.00</td>\n",
       "      <td>DebtCon</td>\n",
       "      <td>Other</td>\n",
       "      <td>15.00</td>\n",
       "      <td>0.00</td>\n",
       "      <td>0.00</td>\n",
       "      <td>...</td>\n",
       "      <td>15.00</td>\n",
       "      <td>0</td>\n",
       "      <td>35.56</td>\n",
       "      <td>0</td>\n",
       "      <td>0</td>\n",
       "      <td>1</td>\n",
       "      <td>0</td>\n",
       "      <td>0</td>\n",
       "      <td>0</td>\n",
       "      <td>0</td>\n",
       "    </tr>\n",
       "    <tr>\n",
       "      <th>5958</th>\n",
       "      <td>0</td>\n",
       "      <td>NaN</td>\n",
       "      <td>89800</td>\n",
       "      <td>50370.00</td>\n",
       "      <td>91861.00</td>\n",
       "      <td>DebtCon</td>\n",
       "      <td>Other</td>\n",
       "      <td>14.00</td>\n",
       "      <td>0.00</td>\n",
       "      <td>0.00</td>\n",
       "      <td>...</td>\n",
       "      <td>16.00</td>\n",
       "      <td>0</td>\n",
       "      <td>34.34</td>\n",
       "      <td>0</td>\n",
       "      <td>0</td>\n",
       "      <td>1</td>\n",
       "      <td>0</td>\n",
       "      <td>0</td>\n",
       "      <td>0</td>\n",
       "      <td>0</td>\n",
       "    </tr>\n",
       "    <tr>\n",
       "      <th>5959</th>\n",
       "      <td>0</td>\n",
       "      <td>NaN</td>\n",
       "      <td>89900</td>\n",
       "      <td>48811.00</td>\n",
       "      <td>88934.00</td>\n",
       "      <td>DebtCon</td>\n",
       "      <td>Other</td>\n",
       "      <td>15.00</td>\n",
       "      <td>0.00</td>\n",
       "      <td>0.00</td>\n",
       "      <td>...</td>\n",
       "      <td>16.00</td>\n",
       "      <td>0</td>\n",
       "      <td>34.57</td>\n",
       "      <td>0</td>\n",
       "      <td>0</td>\n",
       "      <td>1</td>\n",
       "      <td>0</td>\n",
       "      <td>0</td>\n",
       "      <td>0</td>\n",
       "      <td>0</td>\n",
       "    </tr>\n",
       "  </tbody>\n",
       "</table>\n",
       "<p>5960 rows × 44 columns</p>\n",
       "</div>"
      ],
      "text/plain": [
       "      TARGET_BAD_FLAG  TARGET_LOSS_AMT   LOAN  MORTDUE     VALUE   REASON  \\\n",
       "0                   1           641.00   1100 25860.00  39025.00  HomeImp   \n",
       "1                   1          1109.00   1300 70053.00  68400.00  HomeImp   \n",
       "2                   1           767.00   1500 13500.00  16700.00  HomeImp   \n",
       "3                   1          1425.00   1500      NaN       NaN      NaN   \n",
       "4                   0              NaN   1700 97800.00 112000.00  HomeImp   \n",
       "...               ...              ...    ...      ...       ...      ...   \n",
       "5955                0              NaN  88900 57264.00  90185.00  DebtCon   \n",
       "5956                0              NaN  89000 54576.00  92937.00  DebtCon   \n",
       "5957                0              NaN  89200 54045.00  92924.00  DebtCon   \n",
       "5958                0              NaN  89800 50370.00  91861.00  DebtCon   \n",
       "5959                0              NaN  89900 48811.00  88934.00  DebtCon   \n",
       "\n",
       "         JOB   YOJ  DEROG  DELINQ  ...  IMP_CLNO  flag_CLNO  IMP_DEBTINC  \\\n",
       "0      Other 10.50   0.00    0.00  ...      9.00          0        34.82   \n",
       "1      Other  7.00   0.00    2.00  ...     14.00          0        34.82   \n",
       "2      Other  4.00   0.00    0.00  ...     10.00          0        34.82   \n",
       "3        NaN   NaN    NaN     NaN  ...     20.00          1        34.82   \n",
       "4     Office  3.00   0.00    0.00  ...     14.00          0        34.82   \n",
       "...      ...   ...    ...     ...  ...       ...        ...          ...   \n",
       "5955   Other 16.00   0.00    0.00  ...     16.00          0        36.11   \n",
       "5956   Other 16.00   0.00    0.00  ...     15.00          0        35.86   \n",
       "5957   Other 15.00   0.00    0.00  ...     15.00          0        35.56   \n",
       "5958   Other 14.00   0.00    0.00  ...     16.00          0        34.34   \n",
       "5959   Other 15.00   0.00    0.00  ...     16.00          0        34.57   \n",
       "\n",
       "      flag_DEBTINC  z_JOB_Office  z_JOB_Other z_JOB_ProfExe z_JOB_Sales  \\\n",
       "0                1             0            1             0           0   \n",
       "1                1             0            1             0           0   \n",
       "2                1             0            1             0           0   \n",
       "3                1             0            1             0           0   \n",
       "4                1             1            0             0           0   \n",
       "...            ...           ...          ...           ...         ...   \n",
       "5955             0             0            1             0           0   \n",
       "5956             0             0            1             0           0   \n",
       "5957             0             0            1             0           0   \n",
       "5958             0             0            1             0           0   \n",
       "5959             0             0            1             0           0   \n",
       "\n",
       "      z_JOB_Self  z_REASON_HomeImp  \n",
       "0              0                 1  \n",
       "1              0                 1  \n",
       "2              0                 1  \n",
       "3              0                 0  \n",
       "4              0                 1  \n",
       "...          ...               ...  \n",
       "5955           0                 0  \n",
       "5956           0                 0  \n",
       "5957           0                 0  \n",
       "5958           0                 0  \n",
       "5959           0                 0  \n",
       "\n",
       "[5960 rows x 44 columns]"
      ]
     },
     "execution_count": 19,
     "metadata": {},
     "output_type": "execute_result"
    }
   ],
   "source": [
    "comp_df"
   ]
  },
  {
   "cell_type": "code",
   "execution_count": 23,
   "id": "cb9c62d2",
   "metadata": {},
   "outputs": [],
   "source": [
    "#savign out two dataset.one with all columns and one clean dataset\n",
    "comp_df.to_csv('../data_sets/SA_comp_HMEQ_Loss.csv', index=False)\n",
    "\n",
    "comp_df[[target_a]+[i for i in comp_df.columns if 'IMP' in i or 'flag' in i]+\\\n",
    "        [i for i in comp_df.columns if i.startswith('z_')]].to_csv('../data_sets/SA_clean_HMEQ_Loss.csv', index=False)\n"
   ]
  },
  {
   "cell_type": "code",
   "execution_count": null,
   "id": "89f39287",
   "metadata": {},
   "outputs": [],
   "source": []
  }
 ],
 "metadata": {
  "kernelspec": {
   "display_name": "Python 3.10.5 64-bit",
   "language": "python",
   "name": "python3"
  },
  "language_info": {
   "codemirror_mode": {
    "name": "ipython",
    "version": 3
   },
   "file_extension": ".py",
   "mimetype": "text/x-python",
   "name": "python",
   "nbconvert_exporter": "python",
   "pygments_lexer": "ipython3",
   "version": "3.10.5"
  },
  "vscode": {
   "interpreter": {
    "hash": "4217bdb66c1619d3c7bf3a5f6dea8f7bd4200ce5b7b90b812037b80bad35d2ee"
   }
  }
 },
 "nbformat": 4,
 "nbformat_minor": 5
}
